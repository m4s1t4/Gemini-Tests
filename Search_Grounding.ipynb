{
  "cells": [
    {
      "cell_type": "markdown",
      "metadata": {
        "id": "0fgOxpmGrOvn"
      },
      "source": [
        "##### Copyright 2024 Google LLC."
      ]
    },
    {
      "cell_type": "code",
      "execution_count": null,
      "metadata": {
        "cellView": "form",
        "id": "zxdx4xJxrTfP"
      },
      "outputs": [],
      "source": [
        "# @title Licensed under the Apache License, Version 2.0 (the \"License\");\n",
        "# you may not use this file except in compliance with the License.\n",
        "# You may obtain a copy of the License at\n",
        "#\n",
        "# https://www.apache.org/licenses/LICENSE-2.0\n",
        "#\n",
        "# Unless required by applicable law or agreed to in writing, software\n",
        "# distributed under the License is distributed on an \"AS IS\" BASIS,\n",
        "# WITHOUT WARRANTIES OR CONDITIONS OF ANY KIND, either express or implied.\n",
        "# See the License for the specific language governing permissions and\n",
        "# limitations under the License."
      ]
    },
    {
      "cell_type": "markdown",
      "metadata": {
        "id": "Qw6ttkOtrQ_D"
      },
      "source": [
        "# Gemini API: Search Grounding\n",
        "\n",
        "<table align=\"left\">\n",
        "  <td>\n",
        "    <a target=\"_blank\" href=\"https://colab.research.google.com/github/google-gemini/cookbook/blob/main/quickstarts/Search_Grounding.ipynb\"><img src=\"https://github.com/google-gemini/cookbook/blob/main/images/colab_logo_32px.png?raw=1\" />Run in Google Colab</a>\n",
        "  </td>\n",
        "</table>"
      ]
    },
    {
      "cell_type": "markdown",
      "metadata": {
        "id": "hqsJDYHlR4fo"
      },
      "source": [
        "This notebook contains a walkthrough of how to use the search grounding feature in the Gemini API."
      ]
    },
    {
      "cell_type": "code",
      "execution_count": 1,
      "metadata": {
        "id": "qK3p_60ly_2u"
      },
      "outputs": [
        {
          "name": "stderr",
          "output_type": "stream",
          "text": [
            "/home/m4s1t4/anaconda3/envs/Agents/lib/python3.11/site-packages/tqdm/auto.py:21: TqdmWarning: IProgress not found. Please update jupyter and ipywidgets. See https://ipywidgets.readthedocs.io/en/stable/user_install.html\n",
            "  from .autonotebook import tqdm as notebook_tqdm\n"
          ]
        }
      ],
      "source": [
        "import google.generativeai as genai\n",
        "from IPython.display import Markdown, HTML"
      ]
    },
    {
      "cell_type": "markdown",
      "metadata": {
        "id": "qGycVxWJzHKH"
      },
      "source": [
        "## Set up your API key\n",
        "\n",
        "To run the following cell, your API key must be stored it in a Colab Secret named `GOOGLE_API_KEY`. If you don't already have an API key, or you're not sure how to create a Colab Secret, see the [Authentication](https://github.com/google-gemini/gemini-api-cookbook/blob/main/quickstarts/Authentication.ipynb) quickstart for an example."
      ]
    },
    {
      "cell_type": "code",
      "execution_count": 4,
      "metadata": {
        "id": "ova_UQ0Ky9nv"
      },
      "outputs": [],
      "source": [
        "import os\n",
        "import dotenv\n",
        "dotenv.load_dotenv()\n",
        "\n",
        "genai.configure(api_key=os.getenv(\"GEMINI_API_KEY\"))"
      ]
    },
    {
      "cell_type": "markdown",
      "metadata": {
        "id": "rPfJ9uJfFWBu"
      },
      "source": [
        "## Search Grounding"
      ]
    },
    {
      "cell_type": "markdown",
      "metadata": {
        "id": "giHhTw6fzUB2"
      },
      "source": [
        "Take a look at the available models from the Gemini API. To perform search grounding, use `'models/gemini-1.5-pro-002'` when calling the API."
      ]
    },
    {
      "cell_type": "code",
      "execution_count": 5,
      "metadata": {
        "id": "vmv9wc7TzCdx"
      },
      "outputs": [
        {
          "name": "stdout",
          "output_type": "stream",
          "text": [
            "models/gemini-1.5-pro-002\n",
            "models/gemini-1.5-flash-002\n"
          ]
        }
      ],
      "source": [
        "for model in genai.list_models():\n",
        "  if '002' in model.name:\n",
        "    print(model.name)"
      ]
    },
    {
      "cell_type": "markdown",
      "metadata": {
        "id": "Odvk0g6J-YtT"
      },
      "source": [
        "`GoogleSearchRetrieval` is a tool to retrieve public web data for grounding, powered by Google. Part of `GoogleSearchRetrieval` is dynamic search retrieval, which uses real time retrieved data to build answers to queries.\n",
        "\n",
        "Two possible ways to use include `GoogleSearchRetrieval` are to pass in a string or dictionary to the field. First, you will pass in `google_search_retrieval` to the `tools` parameter in `generate_content`."
      ]
    },
    {
      "cell_type": "code",
      "execution_count": 9,
      "metadata": {
        "id": "m5-7jx4szEUf"
      },
      "outputs": [],
      "source": [
        "model = genai.GenerativeModel('models/gemini-1.5-flash')\n",
        "response = model.generate_content(contents=\"What is the land area of Spain?\",\n",
        "                                  tools='google_search_retrieval')"
      ]
    },
    {
      "cell_type": "markdown",
      "metadata": {
        "id": "LTbJ7-8B6zMK"
      },
      "source": [
        "Take a look at the first response produced by the model."
      ]
    },
    {
      "cell_type": "code",
      "execution_count": 10,
      "metadata": {
        "id": "gimhCk5M6Dg0"
      },
      "outputs": [
        {
          "data": {
            "text/markdown": [
              "The land area of Spain is reported differently by various sources.  The discrepancy likely stems from different methodologies in including or excluding islands, and potentially from variations in data collection and updates.\n",
              "\n",
              "Here's a summary of the reported figures:\n",
              "\n",
              "* **Wikipedia [Source 1]:** 504,782 square kilometers (mainland) and 505,370 square kilometers (including islands).  Note that this source also mentions a land area of 499,542 square kilometers, but this is stated as part of the total area including water.\n",
              "\n",
              "* **La Moncloa [Source 2]:** 506,030 square kilometers.  This source breaks down the area into mainland, Balearic Islands, Canary Islands, and Ceuta and Melilla.\n",
              "\n",
              "* **Biodiversity Information System for Europe [Source 3]:** Approximately 506,000 square kilometers.\n",
              "\n",
              "* **Trading Economics [Source 4]:** 499,733 square kilometers (data from 2021).\n",
              "\n",
              "* **Spain.info [Source 5]:** Just over 505,000 square kilometers, with 12,500 square kilometers attributed to islands.\n",
              "\n",
              "\n",
              "Therefore, while there's no single definitive answer, the most frequently cited figure is around **505,000 to 506,000 square kilometers**.  The variation is likely due to ongoing surveys and adjustments to data.\n"
            ],
            "text/plain": [
              "<IPython.core.display.Markdown object>"
            ]
          },
          "execution_count": 10,
          "metadata": {},
          "output_type": "execute_result"
        }
      ],
      "source": [
        "Markdown(response.candidates[0].content.parts[0].text)"
      ]
    },
    {
      "cell_type": "markdown",
      "metadata": {
        "id": "ktLx_aeE62Fl"
      },
      "source": [
        "Now, take a look at the rendered HTML content gathered by the Gemini API.\n",
        "\n",
        "> Important: If you use search grounding you **must** follow the [requirements outlined here](https://ai.google.dev/gemini-api/docs/grounding/search-suggestions?hl=en#requirements), which includes \"Display the Search Suggestion exactly as provided\" and \"Take users directly to the Google Search results page (SRP) when they interact with the Search Suggestion\"."
      ]
    },
    {
      "cell_type": "code",
      "execution_count": 11,
      "metadata": {
        "id": "nuRKeAov6JMq"
      },
      "outputs": [
        {
          "data": {
            "text/html": [
              "<style>\n",
              ".container {\n",
              "  align-items: center;\n",
              "  border-radius: 8px;\n",
              "  display: flex;\n",
              "  font-family: Google Sans, Roboto, sans-serif;\n",
              "  font-size: 14px;\n",
              "  line-height: 20px;\n",
              "  padding: 8px 12px;\n",
              "}\n",
              ".chip {\n",
              "  display: inline-block;\n",
              "  border: solid 1px;\n",
              "  border-radius: 16px;\n",
              "  min-width: 14px;\n",
              "  padding: 5px 16px;\n",
              "  text-align: center;\n",
              "  user-select: none;\n",
              "  margin: 0 8px;\n",
              "  -webkit-tap-highlight-color: transparent;\n",
              "}\n",
              ".carousel {\n",
              "  overflow: auto;\n",
              "  scrollbar-width: none;\n",
              "  white-space: nowrap;\n",
              "  margin-right: -12px;\n",
              "}\n",
              ".headline {\n",
              "  display: flex;\n",
              "  margin-right: 4px;\n",
              "}\n",
              ".gradient-container {\n",
              "  position: relative;\n",
              "}\n",
              ".gradient {\n",
              "  position: absolute;\n",
              "  transform: translate(3px, -9px);\n",
              "  height: 36px;\n",
              "  width: 9px;\n",
              "}\n",
              "@media (prefers-color-scheme: light) {\n",
              "  .container {\n",
              "    background-color: #fafafa;\n",
              "    box-shadow: 0 0 0 1px #0000000f;\n",
              "  }\n",
              "  .headline-label {\n",
              "    color: #1f1f1f;\n",
              "  }\n",
              "  .chip {\n",
              "    background-color: #ffffff;\n",
              "    border-color: #d2d2d2;\n",
              "    color: #5e5e5e;\n",
              "    text-decoration: none;\n",
              "  }\n",
              "  .chip:hover {\n",
              "    background-color: #f2f2f2;\n",
              "  }\n",
              "  .chip:focus {\n",
              "    background-color: #f2f2f2;\n",
              "  }\n",
              "  .chip:active {\n",
              "    background-color: #d8d8d8;\n",
              "    border-color: #b6b6b6;\n",
              "  }\n",
              "  .logo-dark {\n",
              "    display: none;\n",
              "  }\n",
              "  .gradient {\n",
              "    background: linear-gradient(90deg, #fafafa 15%, #fafafa00 100%);\n",
              "  }\n",
              "}\n",
              "@media (prefers-color-scheme: dark) {\n",
              "  .container {\n",
              "    background-color: #1f1f1f;\n",
              "    box-shadow: 0 0 0 1px #ffffff26;\n",
              "  }\n",
              "  .headline-label {\n",
              "    color: #fff;\n",
              "  }\n",
              "  .chip {\n",
              "    background-color: #2c2c2c;\n",
              "    border-color: #3c4043;\n",
              "    color: #fff;\n",
              "    text-decoration: none;\n",
              "  }\n",
              "  .chip:hover {\n",
              "    background-color: #353536;\n",
              "  }\n",
              "  .chip:focus {\n",
              "    background-color: #353536;\n",
              "  }\n",
              "  .chip:active {\n",
              "    background-color: #464849;\n",
              "    border-color: #53575b;\n",
              "  }\n",
              "  .logo-light {\n",
              "    display: none;\n",
              "  }\n",
              "  .gradient {\n",
              "    background: linear-gradient(90deg, #1f1f1f 15%, #1f1f1f00 100%);\n",
              "  }\n",
              "}\n",
              "</style>\n",
              "<div class=\"container\">\n",
              "  <div class=\"headline\">\n",
              "    <svg class=\"logo-light\" width=\"18\" height=\"18\" viewBox=\"9 9 35 35\" fill=\"none\" xmlns=\"http://www.w3.org/2000/svg\">\n",
              "      <path fill-rule=\"evenodd\" clip-rule=\"evenodd\" d=\"M42.8622 27.0064C42.8622 25.7839 42.7525 24.6084 42.5487 23.4799H26.3109V30.1568H35.5897C35.1821 32.3041 33.9596 34.1222 32.1258 35.3448V39.6864H37.7213C40.9814 36.677 42.8622 32.2571 42.8622 27.0064V27.0064Z\" fill=\"#4285F4\"/>\n",
              "      <path fill-rule=\"evenodd\" clip-rule=\"evenodd\" d=\"M26.3109 43.8555C30.9659 43.8555 34.8687 42.3195 37.7213 39.6863L32.1258 35.3447C30.5898 36.3792 28.6306 37.0061 26.3109 37.0061C21.8282 37.0061 18.0195 33.9811 16.6559 29.906H10.9194V34.3573C13.7563 39.9841 19.5712 43.8555 26.3109 43.8555V43.8555Z\" fill=\"#34A853\"/>\n",
              "      <path fill-rule=\"evenodd\" clip-rule=\"evenodd\" d=\"M16.6559 29.8904C16.3111 28.8559 16.1074 27.7588 16.1074 26.6146C16.1074 25.4704 16.3111 24.3733 16.6559 23.3388V18.8875H10.9194C9.74388 21.2072 9.06992 23.8247 9.06992 26.6146C9.06992 29.4045 9.74388 32.022 10.9194 34.3417L15.3864 30.8621L16.6559 29.8904V29.8904Z\" fill=\"#FBBC05\"/>\n",
              "      <path fill-rule=\"evenodd\" clip-rule=\"evenodd\" d=\"M26.3109 16.2386C28.85 16.2386 31.107 17.1164 32.9095 18.8091L37.8466 13.8719C34.853 11.082 30.9659 9.3736 26.3109 9.3736C19.5712 9.3736 13.7563 13.245 10.9194 18.8875L16.6559 23.3388C18.0195 19.2636 21.8282 16.2386 26.3109 16.2386V16.2386Z\" fill=\"#EA4335\"/>\n",
              "    </svg>\n",
              "    <svg class=\"logo-dark\" width=\"18\" height=\"18\" viewBox=\"0 0 48 48\" xmlns=\"http://www.w3.org/2000/svg\">\n",
              "      <circle cx=\"24\" cy=\"23\" fill=\"#FFF\" r=\"22\"/>\n",
              "      <path d=\"M33.76 34.26c2.75-2.56 4.49-6.37 4.49-11.26 0-.89-.08-1.84-.29-3H24.01v5.99h8.03c-.4 2.02-1.5 3.56-3.07 4.56v.75l3.91 2.97h.88z\" fill=\"#4285F4\"/>\n",
              "      <path d=\"M15.58 25.77A8.845 8.845 0 0 0 24 31.86c1.92 0 3.62-.46 4.97-1.31l4.79 3.71C31.14 36.7 27.65 38 24 38c-5.93 0-11.01-3.4-13.45-8.36l.17-1.01 4.06-2.85h.8z\" fill=\"#34A853\"/>\n",
              "      <path d=\"M15.59 20.21a8.864 8.864 0 0 0 0 5.58l-5.03 3.86c-.98-2-1.53-4.25-1.53-6.64 0-2.39.55-4.64 1.53-6.64l1-.22 3.81 2.98.22 1.08z\" fill=\"#FBBC05\"/>\n",
              "      <path d=\"M24 14.14c2.11 0 4.02.75 5.52 1.98l4.36-4.36C31.22 9.43 27.81 8 24 8c-5.93 0-11.01 3.4-13.45 8.36l5.03 3.85A8.86 8.86 0 0 1 24 14.14z\" fill=\"#EA4335\"/>\n",
              "    </svg>\n",
              "    <div class=\"gradient-container\"><div class=\"gradient\"></div></div>\n",
              "  </div>\n",
              "  <div class=\"carousel\">\n",
              "    <a class=\"chip\" href=\"https://vertexaisearch.cloud.google.com/grounding-api-redirect/AYygrcSEtoaGWz2eBHjGNNOHMRFOjeTtMahXon0YOwzOwaS3GHf1DUXIUld2zRT6r13_zO8COxSK5FhItYI2kbpkcje2H8CWJn5s10aD95emaq6zYk6v-U7826ModwSiaOwwthKEgAQjs6iFdsQZMQhihe9mFDXRHqgNFva5seP_hcxs0nR69aaw6SKAZb57LXwIF6q9Z8PR9yetoWh1suiKsSf5F62x\">What is the land area of Spain?</a>\n",
              "  </div>\n",
              "</div>\n"
            ],
            "text/plain": [
              "<IPython.core.display.HTML object>"
            ]
          },
          "execution_count": 11,
          "metadata": {},
          "output_type": "execute_result"
        }
      ],
      "source": [
        "HTML(response.candidates[0].grounding_metadata.search_entry_point.rendered_content)"
      ]
    },
    {
      "cell_type": "markdown",
      "metadata": {
        "id": "FkTz4ebaFhkm"
      },
      "source": [
        "You will also receive links that direct you to sources used for your query."
      ]
    },
    {
      "cell_type": "code",
      "execution_count": 12,
      "metadata": {
        "id": "ooeQfMFieXCM"
      },
      "outputs": [
        {
          "data": {
            "text/plain": [
              "[web {\n",
              "  uri: \"https://vertexaisearch.cloud.google.com/grounding-api-redirect/AYygrcQ2TeiR_9Y4pyvIIHLRpcYu8o_m8Yae2--R1Y1_Yd6DzzwHLcjCG4cc_Q-NN4CtbbwLrbWzAHkxN_v05oPJgwi8QMXxfPJ6Bv6-lZf_xKJ9GbNrAue2KXwezigUEsws0LALpu1mWeQeGVjV99k7tE0vF-s41Xx9CiExsgGAZZb1TiLa24B1XAbvW4TDSSG-SphXQzcF\"\n",
              "  title: \"lamoncloa.gob.es\"\n",
              "}\n",
              ", web {\n",
              "  uri: \"https://vertexaisearch.cloud.google.com/grounding-api-redirect/AYygrcQ-PC3t3KJY03mWHXHRw9IjXShJy5sjCgHSREXTcaDzyfJWj6unx1WbPj-TEwfY6aWc74h679rVQZqoIFvEaOXWXaJJgsuAHFf7yU-mXsu1LXuI8uKiYHwXhqNUFphHKWPIE_4af7eGdgCnPjL4bpRB1D9EXsYpFejV\"\n",
              "  title: \"tradingeconomics.com\"\n",
              "}\n",
              ", web {\n",
              "  uri: \"https://vertexaisearch.cloud.google.com/grounding-api-redirect/AYygrcQWvf-EMLUoiV8kkyDlGyIVJx6ICXU2kKKvCUMJ8wOVtyfxKHQw8NYdmfya6vqH9nieu69B92tYW1PjEcK2A2NWtdaZrl6IAlsDkPagL66ZmpZUJ487YoQrxxCwn0QYxpt0lHm9WpMFJBgyzqe0z7tI0Bccra-BHIW6mSAp7-_1CE8pug==\"\n",
              "  title: \"spain.info\"\n",
              "}\n",
              "]"
            ]
          },
          "execution_count": 12,
          "metadata": {},
          "output_type": "execute_result"
        }
      ],
      "source": [
        "response.candidates[0].grounding_metadata.grounding_chunks"
      ]
    },
    {
      "cell_type": "markdown",
      "metadata": {
        "id": "7m4ms4Gii9Vb"
      },
      "source": [
        "And supporting segments, showing which parts of the output are quored from which source."
      ]
    },
    {
      "cell_type": "code",
      "execution_count": 13,
      "metadata": {
        "id": "EhNz1_jEit1g"
      },
      "outputs": [
        {
          "data": {
            "text/plain": [
              "[segment {\n",
              "  start_index: 527\n",
              "  end_index: 582\n",
              "  text: \"* **La Moncloa [Source 2]:** 506,030 square kilometers.\"\n",
              "}\n",
              "grounding_chunk_indices: 0\n",
              "confidence_scores: 0.642883539\n",
              ", segment {\n",
              "  start_index: 584\n",
              "  end_index: 688\n",
              "  text: \"This source breaks down the area into mainland, Balearic Islands, Canary Islands, and Ceuta and Melilla.\"\n",
              "}\n",
              "grounding_chunk_indices: 0\n",
              "confidence_scores: 0.653900504\n",
              ", segment {\n",
              "  start_index: 793\n",
              "  end_index: 872\n",
              "  text: \"* **Trading Economics [Source 4]:** 499,733 square kilometers (data from 2021).\"\n",
              "}\n",
              "grounding_chunk_indices: 1\n",
              "confidence_scores: 0.779980421\n",
              ", segment {\n",
              "  start_index: 874\n",
              "  end_index: 992\n",
              "  text: \"* **Spain.info [Source 5]:** Just over 505,000 square kilometers, with 12,500 square kilometers attributed to islands.\"\n",
              "}\n",
              "grounding_chunk_indices: 2\n",
              "confidence_scores: 0.736297548\n",
              "]"
            ]
          },
          "execution_count": 13,
          "metadata": {},
          "output_type": "execute_result"
        }
      ],
      "source": [
        "response.candidates[0].grounding_metadata.grounding_supports"
      ]
    },
    {
      "cell_type": "markdown",
      "metadata": {
        "id": "xE2Xgidy-ft7"
      },
      "source": [
        "### Customize search grounding parameters\n",
        "\n",
        "For a dictionary implementation, you don't actually have to pass in `mode` or `dynamic_threshold` key-value pairs. If you don't pass in a value, a default value is created. See the next code cell for this. For the `mode` value, you can pass in one of two specifications:\n",
        "\n",
        "1. `unspecified`: Always trigger retrieval.\n",
        "2. `dynamic`: Run retrieval only when system decides it is necessary.\n",
        "\n",
        "The `dynamic_threshold` is a float value that acts as a threshold on how relevant answers returned should be. You can tweak this parameter depending on how much variation you want in your answer."
      ]
    },
    {
      "cell_type": "code",
      "execution_count": 14,
      "metadata": {
        "id": "peaRvsMw0Mee"
      },
      "outputs": [],
      "source": [
        "model = genai.GenerativeModel('models/gemini-1.5-pro-002')\n",
        "response = model.generate_content(contents=\"What is the land area of Spain?\",\n",
        "                                  tools={\"google_search_retrieval\": {\"dynamic_retrieval_config\": {\"mode\": \"MODE_DYNAMIC\",\n",
        "                                                                                                  \"dynamic_threshold\": 0.5}}})"
      ]
    },
    {
      "cell_type": "code",
      "execution_count": 15,
      "metadata": {
        "id": "yLJtDF78Fcjn"
      },
      "outputs": [
        {
          "data": {
            "text/markdown": [
              "Spain's land area is approximately 500,000 square kilometers.  More precisely, different sources provide slightly different figures. For instance, Wikipedia mentions 504,782 square kilometers, while the World Bank data from 2021 indicates 499,733 square kilometers.  Including the Spanish island territories, the total area increases to around 505,000-506,000 square kilometers.\n",
              "\n",
              "Spain is one of the fifty largest countries globally. It's the largest in Southern Europe, second largest in Western Europe (after France), and fourth largest on the European continent (after Russia, Ukraine, and France).\n",
              "\n",
              "The country is located in Southwestern Europe, bordering the Mediterranean Sea, North Atlantic Ocean, Bay of Biscay, and Pyrenees Mountains.  It shares land borders with France, Andorra, Portugal, Gibraltar, and Morocco (around the cities of Ceuta and Melilla).  Spain's geography is dominated by a large central plateau, divided by mountain ranges, contributing to its average altitude of 650 meters.  This plateau is bordered by coastal plains and several important rivers.\n",
              "\n",
              "Spain also possesses several island territories, including the Balearic Islands in the Mediterranean Sea and the Canary Islands in the Atlantic Ocean. Additionally, Spain controls two autonomous cities on the North African coast – Ceuta and Melilla – and a few small, uninhabited enclaves off the Moroccan coast.\n",
              "\n",
              "It's worth noting that these figures might vary slightly depending on the source and measurement methods. Also, geopolitical changes can affect a country's area, though such changes are rare.\n"
            ],
            "text/plain": [
              "<IPython.core.display.Markdown object>"
            ]
          },
          "execution_count": 15,
          "metadata": {},
          "output_type": "execute_result"
        }
      ],
      "source": [
        "Markdown(response.candidates[0].content.parts[0].text)"
      ]
    },
    {
      "cell_type": "markdown",
      "metadata": {
        "id": "zZK7tGTYIWmR"
      },
      "source": [
        "You can also pass in an empty dictionary. Default values for `mode` and `dynamic_threshold` will be used."
      ]
    },
    {
      "cell_type": "code",
      "execution_count": 16,
      "metadata": {
        "id": "jfH3O8wT-BH_"
      },
      "outputs": [],
      "source": [
        "model = genai.GenerativeModel('models/gemini-1.5-pro-002')\n",
        "response = model.generate_content(contents=\"What is the land area of Spain?\",\n",
        "                                  tools={\"google_search_retrieval\": {}})"
      ]
    },
    {
      "cell_type": "code",
      "execution_count": 17,
      "metadata": {
        "id": "MuYaEuGGIhrv"
      },
      "outputs": [
        {
          "data": {
            "text/markdown": [
              "Spain's land area is approximately 500,000 square kilometers.  More precisely, different sources provide slightly different figures, ranging from 499,542 sq km to 506,030 sq km. This variation is likely due to different inclusions of island territories and autonomous cities like Ceuta and Melilla.  The most commonly cited figure for the mainland is around 504,782 square kilometers.  Including the island territories increases this to approximately 505,370 sq km.\n",
              "\n",
              "Spain is the largest country in Southern Europe, the second largest in Western Europe (after France), and the fourth largest on the European continent (after Russia, Ukraine, and France).  It's slightly more than twice the size of Oregon and almost five times the size of Kentucky.  The country features a diverse geography including a large central plateau (Meseta Central) surrounded by mountain ranges like the Pyrenees, along with coastal plains and island archipelagos. The average altitude is approximately 650 meters.  Spain shares land borders with France, Andorra, Portugal, Gibraltar, and Morocco (at the cities of Ceuta and Melilla). This answer is based on information available as of today, December 20, 2024, and might change in the future.\n"
            ],
            "text/plain": [
              "<IPython.core.display.Markdown object>"
            ]
          },
          "execution_count": 17,
          "metadata": {},
          "output_type": "execute_result"
        }
      ],
      "source": [
        "Markdown(response.candidates[0].content.parts[0].text)"
      ]
    },
    {
      "cell_type": "markdown",
      "metadata": {
        "id": "X8WW6M_YBwVL"
      },
      "source": [
        "## With chat"
      ]
    },
    {
      "cell_type": "markdown",
      "metadata": {
        "id": "hb6Kmd3NCFa3"
      },
      "source": [
        "If you attach the `google_search_retrieval` tool to the model, it can be used in every turn of the chat:"
      ]
    },
    {
      "cell_type": "code",
      "execution_count": 18,
      "metadata": {
        "id": "m7drY07ld7pG"
      },
      "outputs": [],
      "source": [
        "model = genai.GenerativeModel('models/gemini-1.5-pro-002', tools=\"google_search_retrieval\")\n",
        "chat = model.start_chat()\n",
        "result = chat.send_message('what is the area of spain?')"
      ]
    },
    {
      "cell_type": "code",
      "execution_count": 19,
      "metadata": {
        "id": "o7ai4CTZ0uIQ"
      },
      "outputs": [
        {
          "data": {
            "text/markdown": [
              "Spain has a total area of approximately 505,370 square kilometers (195,124 square miles). This includes the Spanish mainland, the Balearic Islands located in the Mediterranean Sea, and the Canary Islands situated in the Atlantic Ocean.  The land area itself is slightly smaller, around 500,000 square kilometers, with the remaining area accounting for water bodies.\n",
              "Spain is the largest country in Southern Europe, the second largest in Western Europe (after France), and the fourth largest on the European continent (after Russia, Ukraine, and France).\n",
              "\n",
              "\n",
              "It's worth noting that these figures can vary slightly depending on the source and measurement methods used.  Also, Spain possesses two autonomous cities in North Africa, Ceuta and Melilla, and three small possessions off the coast of Morocco – Islas Chafarinas, Peñón de Alhucemas, and Peñón de Vélez de la Gomera, which are sometimes included when calculating the total area.\n"
            ],
            "text/plain": [
              "<IPython.core.display.Markdown object>"
            ]
          },
          "metadata": {},
          "output_type": "display_data"
        },
        {
          "data": {
            "text/html": [
              "<style>\n",
              ".container {\n",
              "  align-items: center;\n",
              "  border-radius: 8px;\n",
              "  display: flex;\n",
              "  font-family: Google Sans, Roboto, sans-serif;\n",
              "  font-size: 14px;\n",
              "  line-height: 20px;\n",
              "  padding: 8px 12px;\n",
              "}\n",
              ".chip {\n",
              "  display: inline-block;\n",
              "  border: solid 1px;\n",
              "  border-radius: 16px;\n",
              "  min-width: 14px;\n",
              "  padding: 5px 16px;\n",
              "  text-align: center;\n",
              "  user-select: none;\n",
              "  margin: 0 8px;\n",
              "  -webkit-tap-highlight-color: transparent;\n",
              "}\n",
              ".carousel {\n",
              "  overflow: auto;\n",
              "  scrollbar-width: none;\n",
              "  white-space: nowrap;\n",
              "  margin-right: -12px;\n",
              "}\n",
              ".headline {\n",
              "  display: flex;\n",
              "  margin-right: 4px;\n",
              "}\n",
              ".gradient-container {\n",
              "  position: relative;\n",
              "}\n",
              ".gradient {\n",
              "  position: absolute;\n",
              "  transform: translate(3px, -9px);\n",
              "  height: 36px;\n",
              "  width: 9px;\n",
              "}\n",
              "@media (prefers-color-scheme: light) {\n",
              "  .container {\n",
              "    background-color: #fafafa;\n",
              "    box-shadow: 0 0 0 1px #0000000f;\n",
              "  }\n",
              "  .headline-label {\n",
              "    color: #1f1f1f;\n",
              "  }\n",
              "  .chip {\n",
              "    background-color: #ffffff;\n",
              "    border-color: #d2d2d2;\n",
              "    color: #5e5e5e;\n",
              "    text-decoration: none;\n",
              "  }\n",
              "  .chip:hover {\n",
              "    background-color: #f2f2f2;\n",
              "  }\n",
              "  .chip:focus {\n",
              "    background-color: #f2f2f2;\n",
              "  }\n",
              "  .chip:active {\n",
              "    background-color: #d8d8d8;\n",
              "    border-color: #b6b6b6;\n",
              "  }\n",
              "  .logo-dark {\n",
              "    display: none;\n",
              "  }\n",
              "  .gradient {\n",
              "    background: linear-gradient(90deg, #fafafa 15%, #fafafa00 100%);\n",
              "  }\n",
              "}\n",
              "@media (prefers-color-scheme: dark) {\n",
              "  .container {\n",
              "    background-color: #1f1f1f;\n",
              "    box-shadow: 0 0 0 1px #ffffff26;\n",
              "  }\n",
              "  .headline-label {\n",
              "    color: #fff;\n",
              "  }\n",
              "  .chip {\n",
              "    background-color: #2c2c2c;\n",
              "    border-color: #3c4043;\n",
              "    color: #fff;\n",
              "    text-decoration: none;\n",
              "  }\n",
              "  .chip:hover {\n",
              "    background-color: #353536;\n",
              "  }\n",
              "  .chip:focus {\n",
              "    background-color: #353536;\n",
              "  }\n",
              "  .chip:active {\n",
              "    background-color: #464849;\n",
              "    border-color: #53575b;\n",
              "  }\n",
              "  .logo-light {\n",
              "    display: none;\n",
              "  }\n",
              "  .gradient {\n",
              "    background: linear-gradient(90deg, #1f1f1f 15%, #1f1f1f00 100%);\n",
              "  }\n",
              "}\n",
              "</style>\n",
              "<div class=\"container\">\n",
              "  <div class=\"headline\">\n",
              "    <svg class=\"logo-light\" width=\"18\" height=\"18\" viewBox=\"9 9 35 35\" fill=\"none\" xmlns=\"http://www.w3.org/2000/svg\">\n",
              "      <path fill-rule=\"evenodd\" clip-rule=\"evenodd\" d=\"M42.8622 27.0064C42.8622 25.7839 42.7525 24.6084 42.5487 23.4799H26.3109V30.1568H35.5897C35.1821 32.3041 33.9596 34.1222 32.1258 35.3448V39.6864H37.7213C40.9814 36.677 42.8622 32.2571 42.8622 27.0064V27.0064Z\" fill=\"#4285F4\"/>\n",
              "      <path fill-rule=\"evenodd\" clip-rule=\"evenodd\" d=\"M26.3109 43.8555C30.9659 43.8555 34.8687 42.3195 37.7213 39.6863L32.1258 35.3447C30.5898 36.3792 28.6306 37.0061 26.3109 37.0061C21.8282 37.0061 18.0195 33.9811 16.6559 29.906H10.9194V34.3573C13.7563 39.9841 19.5712 43.8555 26.3109 43.8555V43.8555Z\" fill=\"#34A853\"/>\n",
              "      <path fill-rule=\"evenodd\" clip-rule=\"evenodd\" d=\"M16.6559 29.8904C16.3111 28.8559 16.1074 27.7588 16.1074 26.6146C16.1074 25.4704 16.3111 24.3733 16.6559 23.3388V18.8875H10.9194C9.74388 21.2072 9.06992 23.8247 9.06992 26.6146C9.06992 29.4045 9.74388 32.022 10.9194 34.3417L15.3864 30.8621L16.6559 29.8904V29.8904Z\" fill=\"#FBBC05\"/>\n",
              "      <path fill-rule=\"evenodd\" clip-rule=\"evenodd\" d=\"M26.3109 16.2386C28.85 16.2386 31.107 17.1164 32.9095 18.8091L37.8466 13.8719C34.853 11.082 30.9659 9.3736 26.3109 9.3736C19.5712 9.3736 13.7563 13.245 10.9194 18.8875L16.6559 23.3388C18.0195 19.2636 21.8282 16.2386 26.3109 16.2386V16.2386Z\" fill=\"#EA4335\"/>\n",
              "    </svg>\n",
              "    <svg class=\"logo-dark\" width=\"18\" height=\"18\" viewBox=\"0 0 48 48\" xmlns=\"http://www.w3.org/2000/svg\">\n",
              "      <circle cx=\"24\" cy=\"23\" fill=\"#FFF\" r=\"22\"/>\n",
              "      <path d=\"M33.76 34.26c2.75-2.56 4.49-6.37 4.49-11.26 0-.89-.08-1.84-.29-3H24.01v5.99h8.03c-.4 2.02-1.5 3.56-3.07 4.56v.75l3.91 2.97h.88z\" fill=\"#4285F4\"/>\n",
              "      <path d=\"M15.58 25.77A8.845 8.845 0 0 0 24 31.86c1.92 0 3.62-.46 4.97-1.31l4.79 3.71C31.14 36.7 27.65 38 24 38c-5.93 0-11.01-3.4-13.45-8.36l.17-1.01 4.06-2.85h.8z\" fill=\"#34A853\"/>\n",
              "      <path d=\"M15.59 20.21a8.864 8.864 0 0 0 0 5.58l-5.03 3.86c-.98-2-1.53-4.25-1.53-6.64 0-2.39.55-4.64 1.53-6.64l1-.22 3.81 2.98.22 1.08z\" fill=\"#FBBC05\"/>\n",
              "      <path d=\"M24 14.14c2.11 0 4.02.75 5.52 1.98l4.36-4.36C31.22 9.43 27.81 8 24 8c-5.93 0-11.01 3.4-13.45 8.36l5.03 3.85A8.86 8.86 0 0 1 24 14.14z\" fill=\"#EA4335\"/>\n",
              "    </svg>\n",
              "    <div class=\"gradient-container\"><div class=\"gradient\"></div></div>\n",
              "  </div>\n",
              "  <div class=\"carousel\">\n",
              "    <a class=\"chip\" href=\"https://vertexaisearch.cloud.google.com/grounding-api-redirect/AYygrcS_GdtaTGKJ3Cp87if-sdEtu4nIw31gsLQ_n9BLrxskkAPL34KZ6cLBBETWFxjvB2gD6w5I4mYh8EXW7thBd-WRt2klCTqdR66fRzZ8KLNFs4tUkkS408vhI3GCSz4VLskE1d6BgTVh4uOZkjp747p6oISRMbZB8eMd0ya9pq6GZ8fTrGpEMJgxRBcYapgG9nOshCzbYBXTND3m31M=\">what is the area of spain</a>\n",
              "  </div>\n",
              "</div>\n"
            ],
            "text/plain": [
              "<IPython.core.display.HTML object>"
            ]
          },
          "metadata": {},
          "output_type": "display_data"
        }
      ],
      "source": [
        "display(Markdown(result.text))\n",
        "\n",
        "display(HTML(result.candidates[0].grounding_metadata.search_entry_point.rendered_content))"
      ]
    },
    {
      "cell_type": "code",
      "execution_count": 20,
      "metadata": {
        "id": "XZRVpd9xBDRm"
      },
      "outputs": [
        {
          "data": {
            "text/markdown": [
              "As of December 20, 2024, Google's stock prices vary slightly depending on the stock class and the reporting source.\n",
              "\n",
              "* **GOOG (Class C):** TradingView reports a price of $189.70, up 0.46% over the past 24 hours.\n",
              "\n",
              "* **GOOGL (Class A):**  Several sources report prices around $188.40 - $188.47.  Angel One specifically lists $188.47.  Nasdaq data from earlier in the day indicates a range of $189.33 to $193.03.\n",
              "\n",
              "* **GOOG (Class A):** Business Insider listed yesterday's (December 19, 2024) closing price as $188.43.\n",
              "\n",
              "Please note that stock prices can fluctuate throughout the day, so these values are snapshots in time. For the most up-to-the-minute data, consult a live stock ticker.  Also, be sure to distinguish between the different classes of Google stock (Class A, GOOGL and Class C, GOOG) when making investment decisions, as they have different voting rights.\n"
            ],
            "text/plain": [
              "<IPython.core.display.Markdown object>"
            ]
          },
          "metadata": {},
          "output_type": "display_data"
        },
        {
          "data": {
            "text/html": [
              "<style>\n",
              ".container {\n",
              "  align-items: center;\n",
              "  border-radius: 8px;\n",
              "  display: flex;\n",
              "  font-family: Google Sans, Roboto, sans-serif;\n",
              "  font-size: 14px;\n",
              "  line-height: 20px;\n",
              "  padding: 8px 12px;\n",
              "}\n",
              ".chip {\n",
              "  display: inline-block;\n",
              "  border: solid 1px;\n",
              "  border-radius: 16px;\n",
              "  min-width: 14px;\n",
              "  padding: 5px 16px;\n",
              "  text-align: center;\n",
              "  user-select: none;\n",
              "  margin: 0 8px;\n",
              "  -webkit-tap-highlight-color: transparent;\n",
              "}\n",
              ".carousel {\n",
              "  overflow: auto;\n",
              "  scrollbar-width: none;\n",
              "  white-space: nowrap;\n",
              "  margin-right: -12px;\n",
              "}\n",
              ".headline {\n",
              "  display: flex;\n",
              "  margin-right: 4px;\n",
              "}\n",
              ".gradient-container {\n",
              "  position: relative;\n",
              "}\n",
              ".gradient {\n",
              "  position: absolute;\n",
              "  transform: translate(3px, -9px);\n",
              "  height: 36px;\n",
              "  width: 9px;\n",
              "}\n",
              "@media (prefers-color-scheme: light) {\n",
              "  .container {\n",
              "    background-color: #fafafa;\n",
              "    box-shadow: 0 0 0 1px #0000000f;\n",
              "  }\n",
              "  .headline-label {\n",
              "    color: #1f1f1f;\n",
              "  }\n",
              "  .chip {\n",
              "    background-color: #ffffff;\n",
              "    border-color: #d2d2d2;\n",
              "    color: #5e5e5e;\n",
              "    text-decoration: none;\n",
              "  }\n",
              "  .chip:hover {\n",
              "    background-color: #f2f2f2;\n",
              "  }\n",
              "  .chip:focus {\n",
              "    background-color: #f2f2f2;\n",
              "  }\n",
              "  .chip:active {\n",
              "    background-color: #d8d8d8;\n",
              "    border-color: #b6b6b6;\n",
              "  }\n",
              "  .logo-dark {\n",
              "    display: none;\n",
              "  }\n",
              "  .gradient {\n",
              "    background: linear-gradient(90deg, #fafafa 15%, #fafafa00 100%);\n",
              "  }\n",
              "}\n",
              "@media (prefers-color-scheme: dark) {\n",
              "  .container {\n",
              "    background-color: #1f1f1f;\n",
              "    box-shadow: 0 0 0 1px #ffffff26;\n",
              "  }\n",
              "  .headline-label {\n",
              "    color: #fff;\n",
              "  }\n",
              "  .chip {\n",
              "    background-color: #2c2c2c;\n",
              "    border-color: #3c4043;\n",
              "    color: #fff;\n",
              "    text-decoration: none;\n",
              "  }\n",
              "  .chip:hover {\n",
              "    background-color: #353536;\n",
              "  }\n",
              "  .chip:focus {\n",
              "    background-color: #353536;\n",
              "  }\n",
              "  .chip:active {\n",
              "    background-color: #464849;\n",
              "    border-color: #53575b;\n",
              "  }\n",
              "  .logo-light {\n",
              "    display: none;\n",
              "  }\n",
              "  .gradient {\n",
              "    background: linear-gradient(90deg, #1f1f1f 15%, #1f1f1f00 100%);\n",
              "  }\n",
              "}\n",
              "</style>\n",
              "<div class=\"container\">\n",
              "  <div class=\"headline\">\n",
              "    <svg class=\"logo-light\" width=\"18\" height=\"18\" viewBox=\"9 9 35 35\" fill=\"none\" xmlns=\"http://www.w3.org/2000/svg\">\n",
              "      <path fill-rule=\"evenodd\" clip-rule=\"evenodd\" d=\"M42.8622 27.0064C42.8622 25.7839 42.7525 24.6084 42.5487 23.4799H26.3109V30.1568H35.5897C35.1821 32.3041 33.9596 34.1222 32.1258 35.3448V39.6864H37.7213C40.9814 36.677 42.8622 32.2571 42.8622 27.0064V27.0064Z\" fill=\"#4285F4\"/>\n",
              "      <path fill-rule=\"evenodd\" clip-rule=\"evenodd\" d=\"M26.3109 43.8555C30.9659 43.8555 34.8687 42.3195 37.7213 39.6863L32.1258 35.3447C30.5898 36.3792 28.6306 37.0061 26.3109 37.0061C21.8282 37.0061 18.0195 33.9811 16.6559 29.906H10.9194V34.3573C13.7563 39.9841 19.5712 43.8555 26.3109 43.8555V43.8555Z\" fill=\"#34A853\"/>\n",
              "      <path fill-rule=\"evenodd\" clip-rule=\"evenodd\" d=\"M16.6559 29.8904C16.3111 28.8559 16.1074 27.7588 16.1074 26.6146C16.1074 25.4704 16.3111 24.3733 16.6559 23.3388V18.8875H10.9194C9.74388 21.2072 9.06992 23.8247 9.06992 26.6146C9.06992 29.4045 9.74388 32.022 10.9194 34.3417L15.3864 30.8621L16.6559 29.8904V29.8904Z\" fill=\"#FBBC05\"/>\n",
              "      <path fill-rule=\"evenodd\" clip-rule=\"evenodd\" d=\"M26.3109 16.2386C28.85 16.2386 31.107 17.1164 32.9095 18.8091L37.8466 13.8719C34.853 11.082 30.9659 9.3736 26.3109 9.3736C19.5712 9.3736 13.7563 13.245 10.9194 18.8875L16.6559 23.3388C18.0195 19.2636 21.8282 16.2386 26.3109 16.2386V16.2386Z\" fill=\"#EA4335\"/>\n",
              "    </svg>\n",
              "    <svg class=\"logo-dark\" width=\"18\" height=\"18\" viewBox=\"0 0 48 48\" xmlns=\"http://www.w3.org/2000/svg\">\n",
              "      <circle cx=\"24\" cy=\"23\" fill=\"#FFF\" r=\"22\"/>\n",
              "      <path d=\"M33.76 34.26c2.75-2.56 4.49-6.37 4.49-11.26 0-.89-.08-1.84-.29-3H24.01v5.99h8.03c-.4 2.02-1.5 3.56-3.07 4.56v.75l3.91 2.97h.88z\" fill=\"#4285F4\"/>\n",
              "      <path d=\"M15.58 25.77A8.845 8.845 0 0 0 24 31.86c1.92 0 3.62-.46 4.97-1.31l4.79 3.71C31.14 36.7 27.65 38 24 38c-5.93 0-11.01-3.4-13.45-8.36l.17-1.01 4.06-2.85h.8z\" fill=\"#34A853\"/>\n",
              "      <path d=\"M15.59 20.21a8.864 8.864 0 0 0 0 5.58l-5.03 3.86c-.98-2-1.53-4.25-1.53-6.64 0-2.39.55-4.64 1.53-6.64l1-.22 3.81 2.98.22 1.08z\" fill=\"#FBBC05\"/>\n",
              "      <path d=\"M24 14.14c2.11 0 4.02.75 5.52 1.98l4.36-4.36C31.22 9.43 27.81 8 24 8c-5.93 0-11.01 3.4-13.45 8.36l5.03 3.85A8.86 8.86 0 0 1 24 14.14z\" fill=\"#EA4335\"/>\n",
              "    </svg>\n",
              "    <div class=\"gradient-container\"><div class=\"gradient\"></div></div>\n",
              "  </div>\n",
              "  <div class=\"carousel\">\n",
              "    <a class=\"chip\" href=\"https://vertexaisearch.cloud.google.com/grounding-api-redirect/AYygrcRmphfNWB_yhaCZ8tY0DamLgTzq0ntQ5f-jIOGkw1jaKthW0Mu-CDXnY2c2Q5Jsbs_gMEIEiyuPwXqjWjP20sugPz_vcyQ3exlJBcBjCzS_N4ZJDFzypGeu2HCb796_HUFKfIYmWOWK2J-7etZf0wcU6DPsYAkuJIx0oUoKx726Nk8fxES6FLHQIE6QqSqMgtUavZmOaP0G1p8cRA4xLp0YOA==\">what is the google stock price</a>\n",
              "  </div>\n",
              "</div>\n"
            ],
            "text/plain": [
              "<IPython.core.display.HTML object>"
            ]
          },
          "metadata": {},
          "output_type": "display_data"
        }
      ],
      "source": [
        "result = chat.send_message('what is the google stock price?')\n",
        "\n",
        "\n",
        "display(Markdown(result.text))\n",
        "\n",
        "display(HTML(result.candidates[0].grounding_metadata.search_entry_point.rendered_content))"
      ]
    },
    {
      "cell_type": "markdown",
      "metadata": {
        "id": "M5DKNvBYCZjB"
      },
      "source": [
        "But you can also pass the tool through the `send_message` call."
      ]
    },
    {
      "cell_type": "code",
      "execution_count": 22,
      "metadata": {
        "id": "37xr_XfvBR04"
      },
      "outputs": [
        {
          "data": {
            "text/plain": [
              "response:\n",
              "GenerateContentResponse(\n",
              "    done=True,\n",
              "    iterator=None,\n",
              "    result=protos.GenerateContentResponse({\n",
              "      \"candidates\": [\n",
              "        {\n",
              "          \"content\": {\n",
              "            \"parts\": [\n",
              "              {\n",
              "                \"text\": \"Spain covers a total area of approximately 505,370 square kilometers (195,124 square miles).  This includes the Spanish mainland, the Balearic Islands located in the Mediterranean Sea, and the Canary Islands situated in the Atlantic Ocean.  It's worth noting that two autonomous cities, Ceuta and Melilla, located in North Africa, are also part of Spain, along with a few small possessions off the coast of Morocco. The land area alone is slightly smaller, around 500,000 square kilometers, with the remaining area being water.  To put this into perspective, Spain is slightly more than twice the size of Oregon in the United States.\\n\"\n",
              "              }\n",
              "            ],\n",
              "            \"role\": \"model\"\n",
              "          },\n",
              "          \"finish_reason\": \"STOP\",\n",
              "          \"grounding_metadata\": {\n",
              "            \"search_entry_point\": {\n",
              "              \"rendered_content\": \"<style>\\n.container {\\n  align-items: center;\\n  border-radius: 8px;\\n  display: flex;\\n  font-family: Google Sans, Roboto, sans-serif;\\n  font-size: 14px;\\n  line-height: 20px;\\n  padding: 8px 12px;\\n}\\n.chip {\\n  display: inline-block;\\n  border: solid 1px;\\n  border-radius: 16px;\\n  min-width: 14px;\\n  padding: 5px 16px;\\n  text-align: center;\\n  user-select: none;\\n  margin: 0 8px;\\n  -webkit-tap-highlight-color: transparent;\\n}\\n.carousel {\\n  overflow: auto;\\n  scrollbar-width: none;\\n  white-space: nowrap;\\n  margin-right: -12px;\\n}\\n.headline {\\n  display: flex;\\n  margin-right: 4px;\\n}\\n.gradient-container {\\n  position: relative;\\n}\\n.gradient {\\n  position: absolute;\\n  transform: translate(3px, -9px);\\n  height: 36px;\\n  width: 9px;\\n}\\n@media (prefers-color-scheme: light) {\\n  .container {\\n    background-color: #fafafa;\\n    box-shadow: 0 0 0 1px #0000000f;\\n  }\\n  .headline-label {\\n    color: #1f1f1f;\\n  }\\n  .chip {\\n    background-color: #ffffff;\\n    border-color: #d2d2d2;\\n    color: #5e5e5e;\\n    text-decoration: none;\\n  }\\n  .chip:hover {\\n    background-color: #f2f2f2;\\n  }\\n  .chip:focus {\\n    background-color: #f2f2f2;\\n  }\\n  .chip:active {\\n    background-color: #d8d8d8;\\n    border-color: #b6b6b6;\\n  }\\n  .logo-dark {\\n    display: none;\\n  }\\n  .gradient {\\n    background: linear-gradient(90deg, #fafafa 15%, #fafafa00 100%);\\n  }\\n}\\n@media (prefers-color-scheme: dark) {\\n  .container {\\n    background-color: #1f1f1f;\\n    box-shadow: 0 0 0 1px #ffffff26;\\n  }\\n  .headline-label {\\n    color: #fff;\\n  }\\n  .chip {\\n    background-color: #2c2c2c;\\n    border-color: #3c4043;\\n    color: #fff;\\n    text-decoration: none;\\n  }\\n  .chip:hover {\\n    background-color: #353536;\\n  }\\n  .chip:focus {\\n    background-color: #353536;\\n  }\\n  .chip:active {\\n    background-color: #464849;\\n    border-color: #53575b;\\n  }\\n  .logo-light {\\n    display: none;\\n  }\\n  .gradient {\\n    background: linear-gradient(90deg, #1f1f1f 15%, #1f1f1f00 100%);\\n  }\\n}\\n</style>\\n<div class=\\\"container\\\">\\n  <div class=\\\"headline\\\">\\n    <svg class=\\\"logo-light\\\" width=\\\"18\\\" height=\\\"18\\\" viewBox=\\\"9 9 35 35\\\" fill=\\\"none\\\" xmlns=\\\"http://www.w3.org/2000/svg\\\">\\n      <path fill-rule=\\\"evenodd\\\" clip-rule=\\\"evenodd\\\" d=\\\"M42.8622 27.0064C42.8622 25.7839 42.7525 24.6084 42.5487 23.4799H26.3109V30.1568H35.5897C35.1821 32.3041 33.9596 34.1222 32.1258 35.3448V39.6864H37.7213C40.9814 36.677 42.8622 32.2571 42.8622 27.0064V27.0064Z\\\" fill=\\\"#4285F4\\\"/>\\n      <path fill-rule=\\\"evenodd\\\" clip-rule=\\\"evenodd\\\" d=\\\"M26.3109 43.8555C30.9659 43.8555 34.8687 42.3195 37.7213 39.6863L32.1258 35.3447C30.5898 36.3792 28.6306 37.0061 26.3109 37.0061C21.8282 37.0061 18.0195 33.9811 16.6559 29.906H10.9194V34.3573C13.7563 39.9841 19.5712 43.8555 26.3109 43.8555V43.8555Z\\\" fill=\\\"#34A853\\\"/>\\n      <path fill-rule=\\\"evenodd\\\" clip-rule=\\\"evenodd\\\" d=\\\"M16.6559 29.8904C16.3111 28.8559 16.1074 27.7588 16.1074 26.6146C16.1074 25.4704 16.3111 24.3733 16.6559 23.3388V18.8875H10.9194C9.74388 21.2072 9.06992 23.8247 9.06992 26.6146C9.06992 29.4045 9.74388 32.022 10.9194 34.3417L15.3864 30.8621L16.6559 29.8904V29.8904Z\\\" fill=\\\"#FBBC05\\\"/>\\n      <path fill-rule=\\\"evenodd\\\" clip-rule=\\\"evenodd\\\" d=\\\"M26.3109 16.2386C28.85 16.2386 31.107 17.1164 32.9095 18.8091L37.8466 13.8719C34.853 11.082 30.9659 9.3736 26.3109 9.3736C19.5712 9.3736 13.7563 13.245 10.9194 18.8875L16.6559 23.3388C18.0195 19.2636 21.8282 16.2386 26.3109 16.2386V16.2386Z\\\" fill=\\\"#EA4335\\\"/>\\n    </svg>\\n    <svg class=\\\"logo-dark\\\" width=\\\"18\\\" height=\\\"18\\\" viewBox=\\\"0 0 48 48\\\" xmlns=\\\"http://www.w3.org/2000/svg\\\">\\n      <circle cx=\\\"24\\\" cy=\\\"23\\\" fill=\\\"#FFF\\\" r=\\\"22\\\"/>\\n      <path d=\\\"M33.76 34.26c2.75-2.56 4.49-6.37 4.49-11.26 0-.89-.08-1.84-.29-3H24.01v5.99h8.03c-.4 2.02-1.5 3.56-3.07 4.56v.75l3.91 2.97h.88z\\\" fill=\\\"#4285F4\\\"/>\\n      <path d=\\\"M15.58 25.77A8.845 8.845 0 0 0 24 31.86c1.92 0 3.62-.46 4.97-1.31l4.79 3.71C31.14 36.7 27.65 38 24 38c-5.93 0-11.01-3.4-13.45-8.36l.17-1.01 4.06-2.85h.8z\\\" fill=\\\"#34A853\\\"/>\\n      <path d=\\\"M15.59 20.21a8.864 8.864 0 0 0 0 5.58l-5.03 3.86c-.98-2-1.53-4.25-1.53-6.64 0-2.39.55-4.64 1.53-6.64l1-.22 3.81 2.98.22 1.08z\\\" fill=\\\"#FBBC05\\\"/>\\n      <path d=\\\"M24 14.14c2.11 0 4.02.75 5.52 1.98l4.36-4.36C31.22 9.43 27.81 8 24 8c-5.93 0-11.01 3.4-13.45 8.36l5.03 3.85A8.86 8.86 0 0 1 24 14.14z\\\" fill=\\\"#EA4335\\\"/>\\n    </svg>\\n    <div class=\\\"gradient-container\\\"><div class=\\\"gradient\\\"></div></div>\\n  </div>\\n  <div class=\\\"carousel\\\">\\n    <a class=\\\"chip\\\" href=\\\"https://vertexaisearch.cloud.google.com/grounding-api-redirect/AYygrcQQs-5QXU9qaNvv-bZ9JI3q1wsiQ5Rap1m8fPFJ1PReek-G4Ged7PwlI3x3e_31Sq0fGUfLuS7Hj8Rnz61_88t5-5bgLBc2swCfcYI6cqydihpzEBZ7ABZhv62LcyNuzfnt4gpepBAo4c9EG0r40QRZy1Bfv_WoIG0FUTAqGC-uEpEs4vTR9spb_5nT20Izcsj4piWjA51wMGxLusc=\\\">what is the area of spain</a>\\n  </div>\\n</div>\\n\"\n",
              "            },\n",
              "            \"grounding_chunks\": [\n",
              "              {\n",
              "                \"web\": {\n",
              "                  \"uri\": \"https://vertexaisearch.cloud.google.com/grounding-api-redirect/AYygrcSFmgGY9CuTRx2WAVrEPbJDDJ1Q1JtLsZzkFp30rh5XqGIO1V8uYtcf3xSsoUzQ4kjz-iu9o2E9kZzcGKfJELuhAWTagQL05m_VFgi0mrM4FvCA-UCPMsfpyENed4bW87dqeAYjO924tr_R8w==\",\n",
              "                  \"title\": \"wikipedia.org\"\n",
              "                }\n",
              "              },\n",
              "              {\n",
              "                \"web\": {\n",
              "                  \"uri\": \"https://vertexaisearch.cloud.google.com/grounding-api-redirect/AYygrcQXy6t1iHzbBinHA1xnq7uiWNCAnFvp0CJ7v64GEvNTWr-Nw80eaJ63-F1ff_-TdB-0BBERcDhh5N08xL0Lx6ijqnD_JMO-aVtp8pdRC28IiRC03y1hBhMXEx8EYTv2MFCcCsQvvtJihgCocHYHU30teK4uH5-n4fthZqFWkx9r1muc8no=\",\n",
              "                  \"title\": \"spain.info\"\n",
              "                }\n",
              "              },\n",
              "              {\n",
              "                \"web\": {\n",
              "                  \"uri\": \"https://vertexaisearch.cloud.google.com/grounding-api-redirect/AYygrcRjfgDCaH_fEVk5qGaB9E3ByhJq9Hh_MLPxe6eJjn28Mjo_fM0C_77ja-6TBwgPF5vMtQpeAKa02yviJ_-P5_kd_oYSlClIqIpQxtyKo62tlZtn5o8NSyzEKhAs0VIC8wiGLL_gu-vi9ZVVTtXdBD-2Llg=\",\n",
              "                  \"title\": \"cia.gov\"\n",
              "                }\n",
              "              }\n",
              "            ],\n",
              "            \"grounding_supports\": [\n",
              "              {\n",
              "                \"segment\": {\n",
              "                  \"end_index\": 92,\n",
              "                  \"text\": \"Spain covers a total area of approximately 505,370 square kilometers (195,124 square miles).\"\n",
              "                },\n",
              "                \"grounding_chunk_indices\": [\n",
              "                  0\n",
              "                ],\n",
              "                \"confidence_scores\": [\n",
              "                  0.9733901\n",
              "                ]\n",
              "              },\n",
              "              {\n",
              "                \"segment\": {\n",
              "                  \"start_index\": 94,\n",
              "                  \"end_index\": 239,\n",
              "                  \"text\": \"This includes the Spanish mainland, the Balearic Islands located in the Mediterranean Sea, and the Canary Islands situated in the Atlantic Ocean.\"\n",
              "                },\n",
              "                \"grounding_chunk_indices\": [\n",
              "                  1\n",
              "                ],\n",
              "                \"confidence_scores\": [\n",
              "                  0.73596394\n",
              "                ]\n",
              "              },\n",
              "              {\n",
              "                \"segment\": {\n",
              "                  \"start_index\": 416,\n",
              "                  \"end_index\": 527,\n",
              "                  \"text\": \"The land area alone is slightly smaller, around 500,000 square kilometers, with the remaining area being water.\"\n",
              "                },\n",
              "                \"grounding_chunk_indices\": [\n",
              "                  0,\n",
              "                  2\n",
              "                ],\n",
              "                \"confidence_scores\": [\n",
              "                  0.744375,\n",
              "                  0.6054814\n",
              "                ]\n",
              "              }\n",
              "            ],\n",
              "            \"retrieval_metadata\": {}\n",
              "          },\n",
              "          \"avg_logprobs\": -0.1677798963572881\n",
              "        }\n",
              "      ],\n",
              "      \"usage_metadata\": {\n",
              "        \"prompt_token_count\": 8,\n",
              "        \"candidates_token_count\": 146,\n",
              "        \"total_token_count\": 154\n",
              "      }\n",
              "    }),\n",
              ")"
            ]
          },
          "execution_count": 22,
          "metadata": {},
          "output_type": "execute_result"
        }
      ],
      "source": [
        "model = genai.GenerativeModel('models/gemini-1.5-pro-002')\n",
        "chat = model.start_chat()\n",
        "result = chat.send_message('what is the area of spain?', tools=\"google_search_retrieval\")\n",
        "result"
      ]
    }
  ],
  "metadata": {
    "colab": {
      "name": "Search_Grounding.ipynb",
      "provenance": [],
      "toc_visible": true
    },
    "kernelspec": {
      "display_name": "Agents",
      "language": "python",
      "name": "python3"
    },
    "language_info": {
      "codemirror_mode": {
        "name": "ipython",
        "version": 3
      },
      "file_extension": ".py",
      "mimetype": "text/x-python",
      "name": "python",
      "nbconvert_exporter": "python",
      "pygments_lexer": "ipython3",
      "version": "3.11.7"
    }
  },
  "nbformat": 4,
  "nbformat_minor": 0
}
